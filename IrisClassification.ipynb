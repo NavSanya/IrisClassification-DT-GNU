{
  "nbformat": 4,
  "nbformat_minor": 0,
  "metadata": {
    "colab": {
      "name": "IrisClassification.ipynb",
      "provenance": [],
      "authorship_tag": "ABX9TyN3M6Y97r12heoz+f0In9tH",
      "include_colab_link": true
    },
    "kernelspec": {
      "name": "python3",
      "display_name": "Python 3"
    },
    "language_info": {
      "name": "python"
    }
  },
  "cells": [
    {
      "cell_type": "markdown",
      "metadata": {
        "id": "view-in-github",
        "colab_type": "text"
      },
      "source": [
        "<a href=\"https://colab.research.google.com/github/NavSanya/IrisClassification-DT-GNU/blob/main/IrisClassification.ipynb\" target=\"_parent\"><img src=\"https://colab.research.google.com/assets/colab-badge.svg\" alt=\"Open In Colab\"/></a>"
      ]
    },
    {
      "cell_type": "code",
      "metadata": {
        "id": "eiPjAv6QPEKy"
      },
      "source": [
        "import pandas as pd\n",
        "import numpy as np\n",
        "import seaborn as sns\n",
        "import matplotlib.pyplot as plt\n",
        "\n",
        "\n",
        "from warnings import filterwarnings\n",
        "filterwarnings(action='ignore')"
      ],
      "execution_count": 3,
      "outputs": []
    },
    {
      "cell_type": "code",
      "metadata": {
        "colab": {
          "base_uri": "https://localhost:8080/"
        },
        "id": "g5fX4At3YkYC",
        "outputId": "4f396b1a-abd2-4f37-b312-07dad8547f46"
      },
      "source": [
        "iris=pd.read_csv(\"/content/drive/MyDrive/Colab Notebooks/iris.csv\")\n",
        "print(iris)"
      ],
      "execution_count": 6,
      "outputs": [
        {
          "output_type": "stream",
          "name": "stdout",
          "text": [
            "     Unnamed: 0  Sepal.Length  ...  Petal.Width    Species\n",
            "0             1           5.1  ...          0.2     setosa\n",
            "1             2           4.9  ...          0.2     setosa\n",
            "2             3           4.7  ...          0.2     setosa\n",
            "3             4           4.6  ...          0.2     setosa\n",
            "4             5           5.0  ...          0.2     setosa\n",
            "..          ...           ...  ...          ...        ...\n",
            "145         146           6.7  ...          2.3  virginica\n",
            "146         147           6.3  ...          1.9  virginica\n",
            "147         148           6.5  ...          2.0  virginica\n",
            "148         149           6.2  ...          2.3  virginica\n",
            "149         150           5.9  ...          1.8  virginica\n",
            "\n",
            "[150 rows x 6 columns]\n"
          ]
        }
      ]
    },
    {
      "cell_type": "code",
      "metadata": {
        "colab": {
          "base_uri": "https://localhost:8080/"
        },
        "id": "Eki7uHemaL0S",
        "outputId": "3b593526-7144-4a63-bdd0-47c8fdb5384f"
      },
      "source": [
        "print(iris.shape)"
      ],
      "execution_count": 7,
      "outputs": [
        {
          "output_type": "stream",
          "name": "stdout",
          "text": [
            "(150, 6)\n"
          ]
        }
      ]
    },
    {
      "cell_type": "code",
      "metadata": {
        "colab": {
          "base_uri": "https://localhost:8080/"
        },
        "id": "3MLifCGVaL8u",
        "outputId": "826f36b4-61e5-4195-cdb3-36be3d932f91"
      },
      "source": [
        "print(iris.describe())\n"
      ],
      "execution_count": 8,
      "outputs": [
        {
          "output_type": "stream",
          "name": "stdout",
          "text": [
            "       Unnamed: 0  Sepal.Length  Sepal.Width  Petal.Length  Petal.Width\n",
            "count  150.000000    150.000000   150.000000    150.000000   150.000000\n",
            "mean    75.500000      5.843333     3.057333      3.758000     1.199333\n",
            "std     43.445368      0.828066     0.435866      1.765298     0.762238\n",
            "min      1.000000      4.300000     2.000000      1.000000     0.100000\n",
            "25%     38.250000      5.100000     2.800000      1.600000     0.300000\n",
            "50%     75.500000      5.800000     3.000000      4.350000     1.300000\n",
            "75%    112.750000      6.400000     3.300000      5.100000     1.800000\n",
            "max    150.000000      7.900000     4.400000      6.900000     2.500000\n"
          ]
        }
      ]
    }
  ]
}